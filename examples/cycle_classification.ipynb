{
 "cells": [
  {
   "cell_type": "code",
   "execution_count": 1,
   "id": "74d8c192",
   "metadata": {},
   "outputs": [],
   "source": [
    "\n",
    "import networkx as nx\n",
    "import numpy as np\n",
    "import matplotlib.pyplot as plt\n",
    "import gudhi as gd\n",
    "\n",
    "from dowker_trajectories import CycleGraph\n",
    "from dowker_trajectories import DowkerComplex"
   ]
  },
  {
   "cell_type": "markdown",
   "id": "3a12b936",
   "metadata": {},
   "source": [
    "## Unweighted Consistently Oriented Cycle"
   ]
  },
  {
   "cell_type": "code",
   "execution_count": 2,
   "id": "6b92b297",
   "metadata": {},
   "outputs": [
    {
     "data": {
      "text/plain": [
       "[(1, (1.0, 3.0)),\n",
       " (0, (0.0, inf)),\n",
       " (0, (0.0, 1.0)),\n",
       " (0, (0.0, 1.0)),\n",
       " (0, (0.0, 1.0)),\n",
       " (0, (0.0, 1.0)),\n",
       " (0, (0.0, 1.0))]"
      ]
     },
     "execution_count": 2,
     "metadata": {},
     "output_type": "execute_result"
    }
   ],
   "source": [
    "\n",
    "cycleG = CycleGraph(6)\n",
    "Dcycle = cycleG.distance_matrix()\n",
    "cyclecomplex = DowkerComplex(Dcycle).create_simplex_tree(filtration='Sublevel', max_dimension=2)\n",
    "dgmcycle = cyclecomplex.persistence() #this is the gudhi built in persistence function\n",
    "dgmcycle"
   ]
  },
  {
   "cell_type": "markdown",
   "id": "0c77e69d",
   "metadata": {},
   "source": [
    "## Weighted Consistently Oriented Cycle"
   ]
  },
  {
   "cell_type": "code",
   "execution_count": 3,
   "id": "0ab32e55",
   "metadata": {},
   "outputs": [
    {
     "data": {
      "text/plain": [
       "{(0, 1): 9, (1, 2): 3, (2, 3): 7, (3, 4): 6, (4, 5): 6, (5, 0): 5}"
      ]
     },
     "execution_count": 3,
     "metadata": {},
     "output_type": "execute_result"
    }
   ],
   "source": [
    "cycleG = CycleGraph(6)\n",
    "cycleG.weight_graph(np.random.randint, 1, 10)\n",
    "nx.get_edge_attributes(cycleG, 'weight')"
   ]
  },
  {
   "cell_type": "code",
   "execution_count": 4,
   "id": "4fc81805",
   "metadata": {},
   "outputs": [],
   "source": [
    "Dcycleweighted = cycleG.distance_matrix('weighted_shortest_path')"
   ]
  },
  {
   "cell_type": "code",
   "execution_count": 5,
   "id": "3e8ffddb",
   "metadata": {},
   "outputs": [
    {
     "data": {
      "text/plain": [
       "array([[ 0.,  9., 12., 19., 25., 31.],\n",
       "       [27.,  0.,  3., 10., 16., 22.],\n",
       "       [24., 33.,  0.,  7., 13., 19.],\n",
       "       [17., 26., 29.,  0.,  6., 12.],\n",
       "       [11., 20., 23., 30.,  0.,  6.],\n",
       "       [ 5., 14., 17., 24., 30.,  0.]])"
      ]
     },
     "execution_count": 5,
     "metadata": {},
     "output_type": "execute_result"
    }
   ],
   "source": [
    "Dcycleweighted"
   ]
  },
  {
   "cell_type": "code",
   "execution_count": 6,
   "id": "0375a6b4",
   "metadata": {},
   "outputs": [
    {
     "data": {
      "text/plain": [
       "[(1, (9.0, 19.0)),\n",
       " (0, (0.0, inf)),\n",
       " (0, (0.0, 7.0)),\n",
       " (0, (0.0, 6.0)),\n",
       " (0, (0.0, 6.0)),\n",
       " (0, (0.0, 5.0)),\n",
       " (0, (0.0, 3.0))]"
      ]
     },
     "execution_count": 6,
     "metadata": {},
     "output_type": "execute_result"
    }
   ],
   "source": [
    "weightedcyclecomplex = DowkerComplex(Dcycleweighted).create_simplex_tree(filtration='Sublevel', max_dimension=2)\n",
    "dgmweightedcycle = weightedcyclecomplex.persistence()\n",
    "dgmweightedcycle"
   ]
  },
  {
   "cell_type": "markdown",
   "id": "4a071069",
   "metadata": {},
   "source": [
    "## Not Consistently Oriented Cycle"
   ]
  },
  {
   "cell_type": "code",
   "execution_count": 7,
   "id": "ebe69389",
   "metadata": {},
   "outputs": [],
   "source": [
    "notcycleG = CycleGraph(6)\n",
    "\n",
    "notcycleG.remove_edge(3,4)\n",
    "notcycleG.remove_edge(4,5)\n",
    "notcycleG.remove_edge(5,0)\n",
    "notcycleG.add_edge(4,3)\n",
    "notcycleG.add_edge(5,4)\n",
    "notcycleG.add_edge(0,5)\n"
   ]
  },
  {
   "cell_type": "code",
   "execution_count": 8,
   "id": "c8e55869",
   "metadata": {},
   "outputs": [
    {
     "data": {
      "text/plain": [
       "array([[   0.,    1.,    2.,    3.,    2.,    1.],\n",
       "       [1000.,    0.,    1.,    2., 1000., 1000.],\n",
       "       [1000., 1000.,    0.,    1., 1000., 1000.],\n",
       "       [1000., 1000., 1000.,    0., 1000., 1000.],\n",
       "       [1000., 1000., 1000.,    1.,    0., 1000.],\n",
       "       [1000., 1000., 1000.,    2.,    1.,    0.]])"
      ]
     },
     "execution_count": 8,
     "metadata": {},
     "output_type": "execute_result"
    }
   ],
   "source": [
    "Dnotcycle = notcycleG.distance_matrix()\n",
    "Dnotcycle"
   ]
  },
  {
   "cell_type": "code",
   "execution_count": 9,
   "id": "b0500bdc",
   "metadata": {},
   "outputs": [
    {
     "data": {
      "text/plain": [
       "[(1, (1.0, 3.0)),\n",
       " (0, (0.0, inf)),\n",
       " (0, (0.0, 1.0)),\n",
       " (0, (0.0, 1.0)),\n",
       " (0, (0.0, 1.0)),\n",
       " (0, (0.0, 1.0)),\n",
       " (0, (0.0, 1.0))]"
      ]
     },
     "execution_count": 9,
     "metadata": {},
     "output_type": "execute_result"
    }
   ],
   "source": [
    "notcyclecomplex = DowkerComplex(Dnotcycle).create_simplex_tree(filtration='Sublevel', max_dimension=2)\n",
    "dgmnotcycle = notcyclecomplex.persistence()\n",
    "dgmnotcycle"
   ]
  }
 ],
 "metadata": {
  "kernelspec": {
   "display_name": ".venv",
   "language": "python",
   "name": "python3"
  },
  "language_info": {
   "codemirror_mode": {
    "name": "ipython",
    "version": 3
   },
   "file_extension": ".py",
   "mimetype": "text/x-python",
   "name": "python",
   "nbconvert_exporter": "python",
   "pygments_lexer": "ipython3",
   "version": "3.12.3"
  }
 },
 "nbformat": 4,
 "nbformat_minor": 5
}
