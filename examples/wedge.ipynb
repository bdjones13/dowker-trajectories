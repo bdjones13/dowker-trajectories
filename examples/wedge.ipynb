{
 "cells": [
  {
   "cell_type": "code",
   "execution_count": null,
   "id": "221a231d",
   "metadata": {},
   "outputs": [],
   "source": []
  },
  {
   "cell_type": "markdown",
   "id": "b1a7c222",
   "metadata": {},
   "source": [
    "## Wedges of graphs"
   ]
  },
  {
   "cell_type": "code",
   "execution_count": 1,
   "id": "d40232c6",
   "metadata": {},
   "outputs": [],
   "source": [
    "\n",
    "import networkx as nx\n",
    "import numpy as np\n",
    "import matplotlib.pyplot as plt\n",
    "import gudhi as gd\n",
    "\n",
    "from dowker_trajectories.digraphs import CycleGraph, Digraph\n",
    "from dowker_trajectories import DowkerComplex"
   ]
  },
  {
   "cell_type": "code",
   "execution_count": 2,
   "id": "20fb995b",
   "metadata": {},
   "outputs": [],
   "source": [
    "# Inputs: G1 - a networkx graph\n",
    "#        G2 - a networkx graph\n",
    "# Outputs: G - a wedge sum of G1 and G2 where lowest node label of G2 is highest node label of G1 \n",
    "def wedge_graphs(G1, G2):\n",
    "    n1 = G1.number_of_nodes()\n",
    "    n2 = G2.number_of_nodes()\n",
    "\n",
    "    relabels = {i: i + n1 for i in range(n2-1)} # distinct labels for G2's nodes\n",
    "    relabels[n2-1] = n1-1 # G2's first node is G1's last node (like a figure 8)\n",
    "    G2 = nx.relabel_nodes(G2, relabels)\n",
    "    G = nx.compose(G1, G2)\n",
    "    return G"
   ]
  },
  {
   "cell_type": "code",
   "execution_count": null,
   "id": "9a1d3dff",
   "metadata": {},
   "outputs": [],
   "source": [
    "# Inputs: n1 - number of nodes in first cycle\n",
    "#         n2 - number of nodes in second cycle\n",
    "# Outputs: G - a wedge sum of two cycles, like a figure 8\n",
    "def wedge_cycles(n1, n2):\n",
    "    G1 = nx.cycle_graph(n1, create_using=nx.DiGraph)\n",
    "    G2 = nx.cycle_graph(n2, create_using=nx.DiGraph)\n",
    "    return wedge_graphs(G1, G2)"
   ]
  },
  {
   "cell_type": "code",
   "execution_count": null,
   "id": "aed6432a",
   "metadata": {},
   "outputs": [],
   "source": [
    "def figure_8_dgm(n1, n2, weighted = False):\n",
    "    G = wedge_cycles(n1, n2)\n",
    "    if weighted:\n",
    "        weightedG = weight_graph(G, np.random.randint, 1, 10)\n",
    "        D = distance_matrix(weightedG, 'weighted_shortest_path')\n",
    "    else:\n",
    "        D = distance_matrix(G, 'unweighted_shortest_path')\n",
    "    complex = DowkerComplex(D).create_simplex_tree(filtration='Sublevel', max_dimension=2)\n",
    "    dgms = complex.persistence()\n",
    "    return dgms, G"
   ]
  }
 ],
 "metadata": {
  "kernelspec": {
   "display_name": ".venv",
   "language": "python",
   "name": "python3"
  },
  "language_info": {
   "codemirror_mode": {
    "name": "ipython",
    "version": 3
   },
   "file_extension": ".py",
   "mimetype": "text/x-python",
   "name": "python",
   "nbconvert_exporter": "python",
   "pygments_lexer": "ipython3",
   "version": "3.12.3"
  }
 },
 "nbformat": 4,
 "nbformat_minor": 5
}
